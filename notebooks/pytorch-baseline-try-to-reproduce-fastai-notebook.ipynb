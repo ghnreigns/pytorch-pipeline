{
 "cells": [
  {
   "cell_type": "markdown",
   "id": "331517d3",
   "metadata": {
    "papermill": {
     "duration": 0.027486,
     "end_time": "2021-12-20T11:59:53.453612",
     "exception": false,
     "start_time": "2021-12-20T11:59:53.426126",
     "status": "completed"
    },
    "tags": []
   },
   "source": [
    "This notebook is based on the following notebook, thanks.\n",
    "\n",
    "https://www.kaggle.com/manabendrarout/transformers-classifier-method-starter-train#Train-and-Validation-Functions"
   ]
  },
  {
   "cell_type": "markdown",
   "id": "7e04d427",
   "metadata": {
    "papermill": {
     "duration": 0.024095,
     "end_time": "2021-12-20T11:59:53.504282",
     "exception": false,
     "start_time": "2021-12-20T11:59:53.480187",
     "status": "completed"
    },
    "tags": []
   },
   "source": [
    "## libraries"
   ]
  },
  {
   "cell_type": "code",
   "execution_count": 1,
   "id": "e7f12264",
   "metadata": {
    "_kg_hide-input": true,
    "execution": {
     "iopub.execute_input": "2021-12-20T11:59:53.574738Z",
     "iopub.status.busy": "2021-12-20T11:59:53.573944Z",
     "iopub.status.idle": "2021-12-20T11:59:59.003391Z",
     "shell.execute_reply": "2021-12-20T11:59:59.002720Z",
     "shell.execute_reply.started": "2021-12-20T11:54:38.268721Z"
    },
    "papermill": {
     "duration": 5.474524,
     "end_time": "2021-12-20T11:59:59.003565",
     "exception": false,
     "start_time": "2021-12-20T11:59:53.529041",
     "status": "completed"
    },
    "tags": []
   },
   "outputs": [],
   "source": [
    "import sys\n",
    "sys.path.append('../input/timm-pytorch-image-models/pytorch-image-models-master')\n",
    "import warnings\n",
    "import sklearn.exceptions\n",
    "warnings.filterwarnings(\"ignore\")\n",
    "#general\n",
    "from sklearn.model_selection import StratifiedKFold\n",
    "from sklearn.svm import SVR\n",
    "from sklearn.preprocessing import RobustScaler\n",
    "import pickle\n",
    "from tqdm.auto import tqdm\n",
    "from collections import defaultdict\n",
    "import os\n",
    "import numpy as np\n",
    "import pandas as pd\n",
    "import random\n",
    "import gc\n",
    "import cv2\n",
    "gc.enable()\n",
    "import glob\n",
    "pd.set_option('display.max_columns', None) \n",
    "from sklearn.linear_model import RidgeCV\n",
    "\n",
    "# visualization\n",
    "import matplotlib.pyplot as plt\n",
    "%matplotlib inline\n",
    "\n",
    "# augmentation\n",
    "from albumentations.pytorch import ToTensorV2\n",
    "import albumentations as A\n",
    "\n",
    "# deep learning\n",
    "import timm\n",
    "from torch.cuda.amp import autocast, GradScaler\n",
    "from torch.utils.data import Dataset, DataLoader\n",
    "from torch.optim.lr_scheduler import CosineAnnealingWarmRestarts, OneCycleLR, CosineAnnealingLR, ReduceLROnPlateau, StepLR, LambdaLR\n",
    "import torch\n",
    "import torchvision\n",
    "import torch.nn as nn\n",
    "import torch.nn.functional as F\n",
    "import torch.optim as optim\n",
    "import imageio\n",
    "from PIL import Image\n",
    "from tqdm import tqdm\n",
    "tqdm.pandas()\n",
    "\n",
    "# metrics\n",
    "from sklearn.metrics import mean_squared_error"
   ]
  },
  {
   "cell_type": "code",
   "execution_count": 2,
   "id": "be32eafe",
   "metadata": {
    "_kg_hide-input": true,
    "execution": {
     "iopub.execute_input": "2021-12-20T11:59:59.038646Z",
     "iopub.status.busy": "2021-12-20T11:59:59.037994Z",
     "iopub.status.idle": "2021-12-20T12:00:07.014361Z",
     "shell.execute_reply": "2021-12-20T12:00:07.013139Z",
     "shell.execute_reply.started": "2021-12-20T11:54:43.414816Z"
    },
    "papermill": {
     "duration": 7.995655,
     "end_time": "2021-12-20T12:00:07.014513",
     "exception": false,
     "start_time": "2021-12-20T11:59:59.018858",
     "status": "completed"
    },
    "tags": []
   },
   "outputs": [],
   "source": [
    "if not os.path.exists('/root/.cache/torch/hub/checkpoints/'):\n",
    "    os.makedirs('/root/.cache/torch/hub/checkpoints/')\n",
    "!cp '../input/swin-transformer/swin_large_patch4_window7_224_22kto1k.pth' '/root/.cache/torch/hub/checkpoints/swin_large_patch4_window7_224_22kto1k.pth'"
   ]
  },
  {
   "cell_type": "markdown",
   "id": "72bb811e",
   "metadata": {
    "papermill": {
     "duration": 0.014905,
     "end_time": "2021-12-20T12:00:07.044754",
     "exception": false,
     "start_time": "2021-12-20T12:00:07.029849",
     "status": "completed"
    },
    "tags": []
   },
   "source": [
    "## Config"
   ]
  },
  {
   "cell_type": "code",
   "execution_count": 3,
   "id": "1308d42c",
   "metadata": {
    "execution": {
     "iopub.execute_input": "2021-12-20T12:00:07.082471Z",
     "iopub.status.busy": "2021-12-20T12:00:07.081708Z",
     "iopub.status.idle": "2021-12-20T12:00:07.084012Z",
     "shell.execute_reply": "2021-12-20T12:00:07.084505Z",
     "shell.execute_reply.started": "2021-12-20T11:54:52.715285Z"
    },
    "papermill": {
     "duration": 0.024709,
     "end_time": "2021-12-20T12:00:07.084641",
     "exception": false,
     "start_time": "2021-12-20T12:00:07.059932",
     "status": "completed"
    },
    "tags": []
   },
   "outputs": [],
   "source": [
    "class Config:\n",
    "    base_dir = \"/content/drive/MyDrive/petfinder\"\n",
    "    data_dir = \"../input/petfinder-pawpularity-score/\"\n",
    "    meta_data_dir = \"../input/trainmeta/\"\n",
    "    model_dir = \".\"\n",
    "    output_dir = \".\"\n",
    "    random_seed = 555\n",
    "    n_epoch = 5\n",
    "    n_fold = 5\n",
    "    tta = 1 # 1 or 4\n",
    "    model_path = \"swin_large_patch4_window7_224\"\n",
    "    pretrained = True\n",
    "    inp_channels = 3\n",
    "    im_size =  224\n",
    "    lr = 2e-5\n",
    "    opt_wd_non_norm_bias = 0.01\n",
    "    opt_wd_norm_bias = 0 # same as Adam in Fastai\n",
    "    opt_beta1 = 0.9\n",
    "    opt_beta2 = 0.99 # same as Adam in Fastai\n",
    "    opt_eps = 1e-5 # same as Adam in Fastai\n",
    "    batch_size = 32\n",
    "    epoch_step_valid = 3\n",
    "    num_workers = 8\n",
    "    out_features = 1\n",
    "    dropout = 0\n",
    "    mixup = False\n",
    "    mixup_alpha =1.0\n",
    "    debug = False\n",
    "    if debug:\n",
    "        n_epoch = 1\n",
    "        n_fold = 2\n",
    "        n_sample_debug = 500"
   ]
  },
  {
   "cell_type": "markdown",
   "id": "e79e2b08",
   "metadata": {
    "papermill": {
     "duration": 0.014748,
     "end_time": "2021-12-20T12:00:07.114439",
     "exception": false,
     "start_time": "2021-12-20T12:00:07.099691",
     "status": "completed"
    },
    "tags": []
   },
   "source": [
    "## set up environments & prepare data\n",
    "\n",
    "- set_seed\n",
    "Set random seed for random, torch, and numpy\n",
    "\n",
    "https://docs.fast.ai/torch_core.html#set_seed\n",
    "\n",
    "if reproducible is True:\n",
    "torch.backends.cudnn.deterministic = True\n",
    "torch.backends.cudnn.benchmark = False"
   ]
  },
  {
   "cell_type": "code",
   "execution_count": 4,
   "id": "0aed09ea",
   "metadata": {
    "execution": {
     "iopub.execute_input": "2021-12-20T12:00:07.151021Z",
     "iopub.status.busy": "2021-12-20T12:00:07.150361Z",
     "iopub.status.idle": "2021-12-20T12:00:07.197853Z",
     "shell.execute_reply": "2021-12-20T12:00:07.197381Z",
     "shell.execute_reply.started": "2021-12-20T11:54:52.728819Z"
    },
    "papermill": {
     "duration": 0.068709,
     "end_time": "2021-12-20T12:00:07.197973",
     "exception": false,
     "start_time": "2021-12-20T12:00:07.129264",
     "status": "completed"
    },
    "tags": []
   },
   "outputs": [
    {
     "name": "stdout",
     "output_type": "stream",
     "text": [
      "Using device: cuda\n"
     ]
    }
   ],
   "source": [
    "def seed_everything(seed=Config.random_seed):\n",
    "    #os.environ['PYTHONSEED'] = str(seed)\n",
    "    np.random.seed(seed%(2**32-1))\n",
    "    random.seed(seed)\n",
    "    torch.manual_seed(seed)\n",
    "    torch.cuda.manual_seed(seed)\n",
    "    torch.backends.cudnn.deterministic =True\n",
    "    torch.backends.cudnn.benchmark = False\n",
    "\n",
    "seed_everything()\n",
    "# device optimization\n",
    "if torch.cuda.is_available():\n",
    "    device = torch.device('cuda')\n",
    "else:\n",
    "    device = torch.device('cpu')\n",
    "\n",
    "print(f'Using device: {device}')"
   ]
  },
  {
   "cell_type": "code",
   "execution_count": 5,
   "id": "0b6d0097",
   "metadata": {
    "execution": {
     "iopub.execute_input": "2021-12-20T12:00:07.236494Z",
     "iopub.status.busy": "2021-12-20T12:00:07.235854Z",
     "iopub.status.idle": "2021-12-20T12:00:07.327742Z",
     "shell.execute_reply": "2021-12-20T12:00:07.328288Z",
     "shell.execute_reply.started": "2021-12-20T11:54:53.029954Z"
    },
    "papermill": {
     "duration": 0.113548,
     "end_time": "2021-12-20T12:00:07.328433",
     "exception": false,
     "start_time": "2021-12-20T12:00:07.214885",
     "status": "completed"
    },
    "tags": []
   },
   "outputs": [
    {
     "name": "stderr",
     "output_type": "stream",
     "text": [
      "100%|██████████| 9912/9912 [00:00<00:00, 277124.51it/s]\n"
     ]
    },
    {
     "data": {
      "text/html": [
       "<div>\n",
       "<style scoped>\n",
       "    .dataframe tbody tr th:only-of-type {\n",
       "        vertical-align: middle;\n",
       "    }\n",
       "\n",
       "    .dataframe tbody tr th {\n",
       "        vertical-align: top;\n",
       "    }\n",
       "\n",
       "    .dataframe thead th {\n",
       "        text-align: right;\n",
       "    }\n",
       "</style>\n",
       "<table border=\"1\" class=\"dataframe\">\n",
       "  <thead>\n",
       "    <tr style=\"text-align: right;\">\n",
       "      <th></th>\n",
       "      <th>Id</th>\n",
       "      <th>Subject Focus</th>\n",
       "      <th>Eyes</th>\n",
       "      <th>Face</th>\n",
       "      <th>Near</th>\n",
       "      <th>Action</th>\n",
       "      <th>Accessory</th>\n",
       "      <th>Group</th>\n",
       "      <th>Collage</th>\n",
       "      <th>Human</th>\n",
       "      <th>Occlusion</th>\n",
       "      <th>Info</th>\n",
       "      <th>Blur</th>\n",
       "      <th>Pawpularity</th>\n",
       "      <th>file_path</th>\n",
       "    </tr>\n",
       "  </thead>\n",
       "  <tbody>\n",
       "    <tr>\n",
       "      <th>0</th>\n",
       "      <td>0007de18844b0dbbb5e1f607da0606e0</td>\n",
       "      <td>0</td>\n",
       "      <td>1</td>\n",
       "      <td>1</td>\n",
       "      <td>1</td>\n",
       "      <td>0</td>\n",
       "      <td>0</td>\n",
       "      <td>1</td>\n",
       "      <td>0</td>\n",
       "      <td>0</td>\n",
       "      <td>0</td>\n",
       "      <td>0</td>\n",
       "      <td>0</td>\n",
       "      <td>63</td>\n",
       "      <td>../input/petfinder-pawpularity-score/train/000...</td>\n",
       "    </tr>\n",
       "    <tr>\n",
       "      <th>1</th>\n",
       "      <td>0009c66b9439883ba2750fb825e1d7db</td>\n",
       "      <td>0</td>\n",
       "      <td>1</td>\n",
       "      <td>1</td>\n",
       "      <td>0</td>\n",
       "      <td>0</td>\n",
       "      <td>0</td>\n",
       "      <td>0</td>\n",
       "      <td>0</td>\n",
       "      <td>0</td>\n",
       "      <td>0</td>\n",
       "      <td>0</td>\n",
       "      <td>0</td>\n",
       "      <td>42</td>\n",
       "      <td>../input/petfinder-pawpularity-score/train/000...</td>\n",
       "    </tr>\n",
       "    <tr>\n",
       "      <th>2</th>\n",
       "      <td>0013fd999caf9a3efe1352ca1b0d937e</td>\n",
       "      <td>0</td>\n",
       "      <td>1</td>\n",
       "      <td>1</td>\n",
       "      <td>1</td>\n",
       "      <td>0</td>\n",
       "      <td>0</td>\n",
       "      <td>0</td>\n",
       "      <td>0</td>\n",
       "      <td>1</td>\n",
       "      <td>1</td>\n",
       "      <td>0</td>\n",
       "      <td>0</td>\n",
       "      <td>28</td>\n",
       "      <td>../input/petfinder-pawpularity-score/train/001...</td>\n",
       "    </tr>\n",
       "    <tr>\n",
       "      <th>3</th>\n",
       "      <td>0018df346ac9c1d8413cfcc888ca8246</td>\n",
       "      <td>0</td>\n",
       "      <td>1</td>\n",
       "      <td>1</td>\n",
       "      <td>1</td>\n",
       "      <td>0</td>\n",
       "      <td>0</td>\n",
       "      <td>0</td>\n",
       "      <td>0</td>\n",
       "      <td>0</td>\n",
       "      <td>0</td>\n",
       "      <td>0</td>\n",
       "      <td>0</td>\n",
       "      <td>15</td>\n",
       "      <td>../input/petfinder-pawpularity-score/train/001...</td>\n",
       "    </tr>\n",
       "    <tr>\n",
       "      <th>4</th>\n",
       "      <td>001dc955e10590d3ca4673f034feeef2</td>\n",
       "      <td>0</td>\n",
       "      <td>0</td>\n",
       "      <td>0</td>\n",
       "      <td>1</td>\n",
       "      <td>0</td>\n",
       "      <td>0</td>\n",
       "      <td>1</td>\n",
       "      <td>0</td>\n",
       "      <td>0</td>\n",
       "      <td>0</td>\n",
       "      <td>0</td>\n",
       "      <td>0</td>\n",
       "      <td>72</td>\n",
       "      <td>../input/petfinder-pawpularity-score/train/001...</td>\n",
       "    </tr>\n",
       "  </tbody>\n",
       "</table>\n",
       "</div>"
      ],
      "text/plain": [
       "                                 Id  Subject Focus  Eyes  Face  Near  Action  \\\n",
       "0  0007de18844b0dbbb5e1f607da0606e0              0     1     1     1       0   \n",
       "1  0009c66b9439883ba2750fb825e1d7db              0     1     1     0       0   \n",
       "2  0013fd999caf9a3efe1352ca1b0d937e              0     1     1     1       0   \n",
       "3  0018df346ac9c1d8413cfcc888ca8246              0     1     1     1       0   \n",
       "4  001dc955e10590d3ca4673f034feeef2              0     0     0     1       0   \n",
       "\n",
       "   Accessory  Group  Collage  Human  Occlusion  Info  Blur  Pawpularity  \\\n",
       "0          0      1        0      0          0     0     0           63   \n",
       "1          0      0        0      0          0     0     0           42   \n",
       "2          0      0        0      1          1     0     0           28   \n",
       "3          0      0        0      0          0     0     0           15   \n",
       "4          0      1        0      0          0     0     0           72   \n",
       "\n",
       "                                           file_path  \n",
       "0  ../input/petfinder-pawpularity-score/train/000...  \n",
       "1  ../input/petfinder-pawpularity-score/train/000...  \n",
       "2  ../input/petfinder-pawpularity-score/train/001...  \n",
       "3  ../input/petfinder-pawpularity-score/train/001...  \n",
       "4  ../input/petfinder-pawpularity-score/train/001...  "
      ]
     },
     "execution_count": 5,
     "metadata": {},
     "output_type": "execute_result"
    }
   ],
   "source": [
    "img_train_dir = os.path.join(Config.data_dir, 'train')\n",
    "def return_imgfilepath(name, folder=img_train_dir):\n",
    "    path = os.path.join(folder, f'{name}.jpg')\n",
    "    return path\n",
    "\n",
    "train_file_path = os.path.join(Config.data_dir, 'train.csv')\n",
    "train_df = pd.read_csv(train_file_path)\n",
    "\n",
    "# set image filepath\n",
    "train_df['file_path'] = train_df['Id'].progress_apply(lambda x: return_imgfilepath(x))\n",
    "train_df.head()"
   ]
  },
  {
   "cell_type": "markdown",
   "id": "7a775af3",
   "metadata": {
    "papermill": {
     "duration": 0.016239,
     "end_time": "2021-12-20T12:00:07.361687",
     "exception": false,
     "start_time": "2021-12-20T12:00:07.345448",
     "status": "completed"
    },
    "tags": []
   },
   "source": [
    "## StratifiedKFold"
   ]
  },
  {
   "cell_type": "code",
   "execution_count": 6,
   "id": "7c2bff25",
   "metadata": {
    "execution": {
     "iopub.execute_input": "2021-12-20T12:00:07.402867Z",
     "iopub.status.busy": "2021-12-20T12:00:07.402353Z",
     "iopub.status.idle": "2021-12-20T12:00:07.628797Z",
     "shell.execute_reply": "2021-12-20T12:00:07.628364Z",
     "shell.execute_reply.started": "2021-12-20T11:54:53.126001Z"
    },
    "papermill": {
     "duration": 0.250802,
     "end_time": "2021-12-20T12:00:07.628921",
     "exception": false,
     "start_time": "2021-12-20T12:00:07.378119",
     "status": "completed"
    },
    "tags": []
   },
   "outputs": [
    {
     "data": {
      "text/plain": [
       "<AxesSubplot:>"
      ]
     },
     "execution_count": 6,
     "metadata": {},
     "output_type": "execute_result"
    },
    {
     "data": {
      "image/png": "[encoded data removed]",
      "text/plain": [
       "<Figure size 432x288 with 1 Axes>"
      ]
     },
     "metadata": {
      "needs_background": "light"
     },
     "output_type": "display_data"
    }
   ],
   "source": [
    "if Config.debug:\n",
    "    train_df = train_df.sample(500).reset_index(drop = True)\n",
    "train_df['norm_score'] = train_df['Pawpularity'] / 100\n",
    "#Sturges' rule\n",
    "num_bins = int(np.floor(1+(3.3)*(np.log2(len(train_df)))))\n",
    "train_df['bins'] = pd.cut(train_df['norm_score'], bins=num_bins, labels=False)\n",
    "train_df['fold'] = -1\n",
    "\n",
    "skf = StratifiedKFold(n_splits = Config.n_fold, shuffle=True, random_state =Config.random_seed)\n",
    "for i, (_, train_index) in enumerate(skf.split(train_df.index, train_df['bins'])):\n",
    "    train_df.iloc[train_index, -1] = i\n",
    "    \n",
    "train_df['fold'] = train_df['fold'].astype('int')\n",
    "\n",
    "train_df.fold.value_counts().plot.bar()"
   ]
  },
  {
   "cell_type": "code",
   "execution_count": 7,
   "id": "784a9f8d",
   "metadata": {
    "execution": {
     "iopub.execute_input": "2021-12-20T12:00:07.702132Z",
     "iopub.status.busy": "2021-12-20T12:00:07.700959Z",
     "iopub.status.idle": "2021-12-20T12:00:07.804908Z",
     "shell.execute_reply": "2021-12-20T12:00:07.807047Z",
     "shell.execute_reply.started": "2021-12-20T11:54:53.487777Z"
    },
    "papermill": {
     "duration": 0.15409,
     "end_time": "2021-12-20T12:00:07.807548",
     "exception": false,
     "start_time": "2021-12-20T12:00:07.653458",
     "status": "completed"
    },
    "tags": []
   },
   "outputs": [
    {
     "data": {
      "text/html": [
       "<div>\n",
       "<style scoped>\n",
       "    .dataframe tbody tr th:only-of-type {\n",
       "        vertical-align: middle;\n",
       "    }\n",
       "\n",
       "    .dataframe tbody tr th {\n",
       "        vertical-align: top;\n",
       "    }\n",
       "\n",
       "    .dataframe thead th {\n",
       "        text-align: right;\n",
       "    }\n",
       "</style>\n",
       "<table border=\"1\" class=\"dataframe\">\n",
       "  <thead>\n",
       "    <tr style=\"text-align: right;\">\n",
       "      <th></th>\n",
       "      <th>Id</th>\n",
       "      <th>Subject Focus</th>\n",
       "      <th>Eyes</th>\n",
       "      <th>Face</th>\n",
       "      <th>Near</th>\n",
       "      <th>Action</th>\n",
       "      <th>Accessory</th>\n",
       "      <th>Group</th>\n",
       "      <th>Collage</th>\n",
       "      <th>Human</th>\n",
       "      <th>Occlusion</th>\n",
       "      <th>Info</th>\n",
       "      <th>Blur</th>\n",
       "      <th>Pawpularity</th>\n",
       "      <th>file_path</th>\n",
       "      <th>norm_score</th>\n",
       "      <th>bins</th>\n",
       "      <th>fold</th>\n",
       "    </tr>\n",
       "  </thead>\n",
       "  <tbody>\n",
       "    <tr>\n",
       "      <th>5</th>\n",
       "      <td>001dd4f6fafb890610b1635f967ea081</td>\n",
       "      <td>0</td>\n",
       "      <td>0</td>\n",
       "      <td>1</td>\n",
       "      <td>0</td>\n",
       "      <td>0</td>\n",
       "      <td>0</td>\n",
       "      <td>0</td>\n",
       "      <td>0</td>\n",
       "      <td>0</td>\n",
       "      <td>0</td>\n",
       "      <td>0</td>\n",
       "      <td>1</td>\n",
       "      <td>74</td>\n",
       "      <td>../input/petfinder-pawpularity-score/train/001...</td>\n",
       "      <td>0.74</td>\n",
       "      <td>32</td>\n",
       "      <td>0</td>\n",
       "    </tr>\n",
       "    <tr>\n",
       "      <th>13</th>\n",
       "      <td>006483b96ca9c09b7afed3e3d3af539d</td>\n",
       "      <td>0</td>\n",
       "      <td>1</td>\n",
       "      <td>1</td>\n",
       "      <td>1</td>\n",
       "      <td>0</td>\n",
       "      <td>0</td>\n",
       "      <td>0</td>\n",
       "      <td>0</td>\n",
       "      <td>1</td>\n",
       "      <td>1</td>\n",
       "      <td>0</td>\n",
       "      <td>0</td>\n",
       "      <td>41</td>\n",
       "      <td>../input/petfinder-pawpularity-score/train/006...</td>\n",
       "      <td>0.41</td>\n",
       "      <td>17</td>\n",
       "      <td>0</td>\n",
       "    </tr>\n",
       "    <tr>\n",
       "      <th>29</th>\n",
       "      <td>00b151a572c9aabedf8cfce0fa18be25</td>\n",
       "      <td>0</td>\n",
       "      <td>0</td>\n",
       "      <td>1</td>\n",
       "      <td>1</td>\n",
       "      <td>0</td>\n",
       "      <td>0</td>\n",
       "      <td>0</td>\n",
       "      <td>0</td>\n",
       "      <td>0</td>\n",
       "      <td>0</td>\n",
       "      <td>0</td>\n",
       "      <td>1</td>\n",
       "      <td>21</td>\n",
       "      <td>../input/petfinder-pawpularity-score/train/00b...</td>\n",
       "      <td>0.21</td>\n",
       "      <td>8</td>\n",
       "      <td>0</td>\n",
       "    </tr>\n",
       "    <tr>\n",
       "      <th>46</th>\n",
       "      <td>0126fe11deba78f84fd05cd5f12c5a4b</td>\n",
       "      <td>0</td>\n",
       "      <td>1</td>\n",
       "      <td>1</td>\n",
       "      <td>1</td>\n",
       "      <td>0</td>\n",
       "      <td>0</td>\n",
       "      <td>0</td>\n",
       "      <td>0</td>\n",
       "      <td>0</td>\n",
       "      <td>0</td>\n",
       "      <td>0</td>\n",
       "      <td>0</td>\n",
       "      <td>37</td>\n",
       "      <td>../input/petfinder-pawpularity-score/train/012...</td>\n",
       "      <td>0.37</td>\n",
       "      <td>15</td>\n",
       "      <td>0</td>\n",
       "    </tr>\n",
       "    <tr>\n",
       "      <th>52</th>\n",
       "      <td>01430d6ae02e79774b651175edd40842</td>\n",
       "      <td>0</td>\n",
       "      <td>1</td>\n",
       "      <td>1</td>\n",
       "      <td>1</td>\n",
       "      <td>0</td>\n",
       "      <td>0</td>\n",
       "      <td>0</td>\n",
       "      <td>1</td>\n",
       "      <td>0</td>\n",
       "      <td>0</td>\n",
       "      <td>1</td>\n",
       "      <td>0</td>\n",
       "      <td>28</td>\n",
       "      <td>../input/petfinder-pawpularity-score/train/014...</td>\n",
       "      <td>0.28</td>\n",
       "      <td>11</td>\n",
       "      <td>0</td>\n",
       "    </tr>\n",
       "  </tbody>\n",
       "</table>\n",
       "</div>"
      ],
      "text/plain": [
       "                                  Id  Subject Focus  Eyes  Face  Near  Action  \\\n",
       "5   001dd4f6fafb890610b1635f967ea081              0     0     1     0       0   \n",
       "13  006483b96ca9c09b7afed3e3d3af539d              0     1     1     1       0   \n",
       "29  00b151a572c9aabedf8cfce0fa18be25              0     0     1     1       0   \n",
       "46  0126fe11deba78f84fd05cd5f12c5a4b              0     1     1     1       0   \n",
       "52  01430d6ae02e79774b651175edd40842              0     1     1     1       0   \n",
       "\n",
       "    Accessory  Group  Collage  Human  Occlusion  Info  Blur  Pawpularity  \\\n",
       "5           0      0        0      0          0     0     1           74   \n",
       "13          0      0        0      1          1     0     0           41   \n",
       "29          0      0        0      0          0     0     1           21   \n",
       "46          0      0        0      0          0     0     0           37   \n",
       "52          0      0        1      0          0     1     0           28   \n",
       "\n",
       "                                            file_path  norm_score  bins  fold  \n",
       "5   ../input/petfinder-pawpularity-score/train/001...        0.74    32     0  \n",
       "13  ../input/petfinder-pawpularity-score/train/006...        0.41    17     0  \n",
       "29  ../input/petfinder-pawpularity-score/train/00b...        0.21     8     0  \n",
       "46  ../input/petfinder-pawpularity-score/train/012...        0.37    15     0  \n",
       "52  ../input/petfinder-pawpularity-score/train/014...        0.28    11     0  "
      ]
     },
     "execution_count": 7,
     "metadata": {},
     "output_type": "execute_result"
    }
   ],
   "source": [
    "train_df[train_df['fold']==0].head()"
   ]
  },
  {
   "cell_type": "markdown",
   "id": "1ca5d2a3",
   "metadata": {
    "papermill": {
     "duration": 0.154431,
     "end_time": "2021-12-20T12:00:08.043828",
     "exception": false,
     "start_time": "2021-12-20T12:00:07.889397",
     "status": "completed"
    },
    "tags": []
   },
   "source": [
    "## Dataset & augmentation\n",
    "\n",
    "### PetDataset\n",
    "channels of image converted to 0-1\n",
    "\n",
    "### get_transforms\n",
    "Only resizing is applied to both train and valid data "
   ]
  },
  {
   "cell_type": "code",
   "execution_count": 8,
   "id": "6a1dfdc2",
   "metadata": {
    "execution": {
     "iopub.execute_input": "2021-12-20T12:00:08.123800Z",
     "iopub.status.busy": "2021-12-20T12:00:08.121571Z",
     "iopub.status.idle": "2021-12-20T12:00:08.131327Z",
     "shell.execute_reply": "2021-12-20T12:00:08.130570Z",
     "shell.execute_reply.started": "2021-12-20T11:54:53.506811Z"
    },
    "papermill": {
     "duration": 0.053122,
     "end_time": "2021-12-20T12:00:08.131499",
     "exception": false,
     "start_time": "2021-12-20T12:00:08.078377",
     "status": "completed"
    },
    "tags": []
   },
   "outputs": [],
   "source": [
    "class PetDataset(Dataset):\n",
    "    def __init__(self, image_filepaths, targets, transform=None):\n",
    "        self.image_filepaths = image_filepaths\n",
    "        self.targets = targets\n",
    "        self.transform = transform\n",
    "    \n",
    "    def __len__(self):\n",
    "        return len(self.image_filepaths)\n",
    "\n",
    "    def __getitem__(self, idx):\n",
    "        image_filepath = self.image_filepaths[idx]\n",
    "        with open(image_filepath, 'rb') as f:\n",
    "            image = Image.open(f)\n",
    "            image_rgb = image.convert('RGB')\n",
    "        image = np.array(image_rgb) / 255 # convert to 0-1\n",
    "\n",
    "        if self.transform is not None:\n",
    "            image = self.transform(image = image)[\"image\"]\n",
    "        \n",
    "        image = np.transpose(image, (2, 0, 1)).astype(np.float32)\n",
    "        target = self.targets[idx]\n",
    "\n",
    "        image = torch.tensor(image, dtype = torch.float)\n",
    "        target = torch.tensor(target, dtype = torch.float)\n",
    "        return image, target\n",
    "    \n",
    "def get_transforms(dim = Config.im_size):\n",
    "    return A.Compose(\n",
    "        [            \n",
    "            A.Resize(height=dim, width=dim)\n",
    "        ]\n",
    "    )"
   ]
  },
  {
   "cell_type": "markdown",
   "id": "1965a60a",
   "metadata": {
    "papermill": {
     "duration": 0.033881,
     "end_time": "2021-12-20T12:00:08.200032",
     "exception": false,
     "start_time": "2021-12-20T12:00:08.166151",
     "status": "completed"
    },
    "tags": []
   },
   "source": [
    "## model"
   ]
  },
  {
   "cell_type": "code",
   "execution_count": 9,
   "id": "eeb2d1fc",
   "metadata": {
    "execution": {
     "iopub.execute_input": "2021-12-20T12:00:08.274687Z",
     "iopub.status.busy": "2021-12-20T12:00:08.273915Z",
     "iopub.status.idle": "2021-12-20T12:00:08.277099Z",
     "shell.execute_reply": "2021-12-20T12:00:08.277736Z",
     "shell.execute_reply.started": "2021-12-20T11:54:53.518749Z"
    },
    "papermill": {
     "duration": 0.045532,
     "end_time": "2021-12-20T12:00:08.277916",
     "exception": false,
     "start_time": "2021-12-20T12:00:08.232384",
     "status": "completed"
    },
    "tags": []
   },
   "outputs": [],
   "source": [
    "class PetNet(nn.Module):\n",
    "    def __init__(\n",
    "        self,\n",
    "        model_name = Config.model_path,\n",
    "        out_features = Config.out_features,\n",
    "        inp_channels=Config.inp_channels,\n",
    "        pretrained=Config.pretrained\n",
    "    ):\n",
    "        super().__init__()\n",
    "        self.model = timm.create_model(model_name, pretrained=pretrained, in_chans=inp_channels, num_classes = out_features)\n",
    "    \n",
    "    def forward(self, image):\n",
    "        output = self.model(image)\n",
    "        return output"
   ]
  },
  {
   "cell_type": "markdown",
   "id": "d8bbf0d1",
   "metadata": {
    "papermill": {
     "duration": 0.032596,
     "end_time": "2021-12-20T12:00:08.341672",
     "exception": false,
     "start_time": "2021-12-20T12:00:08.309076",
     "status": "completed"
    },
    "tags": []
   },
   "source": [
    "## helper function\n",
    "\n",
    "### divice_norm_bias\n",
    "function to divide parameters at BatchNorm layer and all bias or not.\n",
    "\n",
    "### usr_rmse_score\n",
    "calculate competition metrics\n",
    "\n",
    "reference\n",
    "- https://docs.fast.ai/learner.html#Learner\n",
    "- https://docs.fast.ai/optimizer.html#Adam\n",
    "- https://pytorch.org/docs/stable/generated/torch.optim.AdamW.html\n",
    "- https://docs.fast.ai/losses.html#BCEWithLogitsLossFlat\n"
   ]
  },
  {
   "cell_type": "code",
   "execution_count": 10,
   "id": "6b473e43",
   "metadata": {
    "execution": {
     "iopub.execute_input": "2021-12-20T12:00:08.420063Z",
     "iopub.status.busy": "2021-12-20T12:00:08.419223Z",
     "iopub.status.idle": "2021-12-20T12:00:08.433077Z",
     "shell.execute_reply": "2021-12-20T12:00:08.433717Z",
     "shell.execute_reply.started": "2021-12-20T11:54:53.530475Z"
    },
    "papermill": {
     "duration": 0.060121,
     "end_time": "2021-12-20T12:00:08.433863",
     "exception": false,
     "start_time": "2021-12-20T12:00:08.373742",
     "status": "completed"
    },
    "tags": []
   },
   "outputs": [],
   "source": [
    "def divice_norm_bias(model): \n",
    "    norm_bias_params = []\n",
    "    non_norm_bias_params = []\n",
    "    except_wd_layers = ['norm', '.bias']\n",
    "    for n, p in model.model.named_parameters():\n",
    "        if any([nd in n for nd in except_wd_layers]):\n",
    "            norm_bias_params.append(p)\n",
    "        else:\n",
    "            non_norm_bias_params.append(p)\n",
    "    return norm_bias_params, non_norm_bias_params\n",
    "\n",
    "def usr_rmse_score(output, target):\n",
    "    y_pred = torch.sigmoid(output).cpu()\n",
    "    y_pred = y_pred.detach().numpy()*100\n",
    "    target = target.cpu()*100\n",
    "    \n",
    "    return mean_squared_error(target, y_pred, squared=False)\n",
    "\n",
    "def rmse_oof(_oof_df, fold=None):\n",
    "    oof_df = _oof_df.copy()\n",
    "    if fold is not None:\n",
    "        oof_df = oof_df[oof_df[\"fold\"] == fold]\n",
    "    target = oof_df['Pawpularity'].values\n",
    "    y_pred = oof_df['pred'].values\n",
    "    if fold is not None:\n",
    "        print(f'fold {fold}: {mean_squared_error(target, y_pred, squared=False)}')\n",
    "    else:\n",
    "        print(f'overall: {mean_squared_error(target, y_pred, squared=False)}')\n",
    "\n",
    "class MetricMonitor:\n",
    "    def __init__(self, float_precision=3):\n",
    "        self.float_precision = float_precision\n",
    "        self.reset()\n",
    "\n",
    "    def reset(self):\n",
    "        self.metrics = defaultdict(lambda: {\"val\": 0, \"count\": 0, \"avg\": 0})\n",
    "\n",
    "    def update(self, metric_name, val):\n",
    "        metric = self.metrics[metric_name]\n",
    "\n",
    "        metric[\"val\"] += val\n",
    "        metric[\"count\"] += 1\n",
    "        metric[\"avg\"] = metric[\"val\"] / metric[\"count\"]\n",
    "\n",
    "    def __str__(self):\n",
    "        return \" | \".join(\n",
    "            [\n",
    "                \"{metric_name}: {avg:.{float_precision}f}\".format(\n",
    "                    metric_name=metric_name, avg=metric[\"avg\"],\n",
    "                    float_precision=self.float_precision\n",
    "                )\n",
    "                for (metric_name, metric) in self.metrics.items()\n",
    "            ]\n",
    "        )\n",
    "    \n"
   ]
  },
  {
   "cell_type": "code",
   "execution_count": 11,
   "id": "bf3de03f",
   "metadata": {
    "_kg_hide-input": true,
    "execution": {
     "iopub.execute_input": "2021-12-20T12:00:08.488477Z",
     "iopub.status.busy": "2021-12-20T12:00:08.487746Z",
     "iopub.status.idle": "2021-12-20T12:00:08.489800Z",
     "shell.execute_reply": "2021-12-20T12:00:08.490238Z",
     "shell.execute_reply.started": "2021-12-20T11:54:53.545504Z"
    },
    "papermill": {
     "duration": 0.035447,
     "end_time": "2021-12-20T12:00:08.490390",
     "exception": false,
     "start_time": "2021-12-20T12:00:08.454943",
     "status": "completed"
    },
    "tags": []
   },
   "outputs": [],
   "source": [
    "def train_fn(train_loader, model, criterion, optimizer, epoch):\n",
    "    metric_monitor = MetricMonitor()\n",
    "    model.train()\n",
    "    scaler = GradScaler()\n",
    "    stream = tqdm(train_loader)\n",
    "\n",
    "    for batch_idx, (images, target) in enumerate(stream, start = 1):\n",
    "        images = images.to(device, non_blocking = True).float()\n",
    "        target = target.to(device, non_blocking = True).float().view(-1, 1)\n",
    "\n",
    "\n",
    "        with autocast(): # mixed precision\n",
    "            output = model(images)\n",
    "        \n",
    "        loss = criterion(output, target)\n",
    "        rmse_score = usr_rmse_score(output, target)\n",
    "        metric_monitor.update('Loss', loss.item())\n",
    "        metric_monitor.update('RMSE', rmse_score)\n",
    "        scaler.scale(loss).backward()\n",
    "        scaler.step(optimizer)\n",
    "        scaler.update()\n",
    "        optimizer.zero_grad()\n",
    "        stream.set_description(f'Epoch: {epoch:02}. Train. {metric_monitor}')\n",
    "\n",
    "def valid_fn(valid_loader, model, criterion, epoch):\n",
    "    metric_monitor = MetricMonitor()\n",
    "    model.eval()\n",
    "    stream = tqdm(valid_loader)\n",
    "    final_targets = []\n",
    "    final_preds = []\n",
    "    for i, (images, target) in enumerate(stream, start=1):\n",
    "        images = images.to(device, non_blocking = True).float()\n",
    "        target = target.to(device, non_blocking = True).float().view(-1, 1)\n",
    "        with torch.no_grad():\n",
    "            output = model(images)\n",
    "        \n",
    "        loss = criterion(output, target)\n",
    "        rmse_score = usr_rmse_score(output, target)\n",
    "        metric_monitor.update('Loss', loss.item())\n",
    "        metric_monitor.update('RMSE', rmse_score)\n",
    "        stream.set_description(f\"Epoch: {epoch:02}. Valid. {metric_monitor}\")\n",
    "        target = (target.detach().cpu().numpy() * 100).ravel().tolist()\n",
    "        pred = (torch.sigmoid(output).detach().cpu().numpy() * 100).ravel().tolist()\n",
    "\n",
    "        final_preds.extend(pred)\n",
    "        final_targets.extend(target)\n",
    "    final_preds = np.array(final_preds)\n",
    "    final_targets = np.array(final_targets)\n",
    "    del valid_loader, target, output, images\n",
    "    gc.collect()\n",
    "    torch.cuda.empty_cache()\n",
    "    return final_targets, final_preds"
   ]
  },
  {
   "cell_type": "markdown",
   "id": "a9b2d358",
   "metadata": {
    "papermill": {
     "duration": 0.018391,
     "end_time": "2021-12-20T12:00:08.527104",
     "exception": false,
     "start_time": "2021-12-20T12:00:08.508713",
     "status": "completed"
    },
    "tags": []
   },
   "source": [
    "## training loop\n",
    "\n",
    "- scheduler: none\n",
    "- optimizer: AdamW\n",
    "hyper parameters are the same as Adam in Fastai"
   ]
  },
  {
   "cell_type": "code",
   "execution_count": 12,
   "id": "e5159c91",
   "metadata": {
    "execution": {
     "iopub.execute_input": "2021-12-20T12:00:08.578510Z",
     "iopub.status.busy": "2021-12-20T12:00:08.566114Z",
     "iopub.status.idle": "2021-12-20T14:45:08.677119Z",
     "shell.execute_reply": "2021-12-20T14:45:08.637135Z",
     "shell.execute_reply.started": "2021-12-20T11:54:53.564524Z"
    },
    "papermill": {
     "duration": 9900.131845,
     "end_time": "2021-12-20T14:45:08.677291",
     "exception": false,
     "start_time": "2021-12-20T12:00:08.545446",
     "status": "completed"
    },
    "tags": []
   },
   "outputs": [
    {
     "name": "stdout",
     "output_type": "stream",
     "text": [
      "=== fold 0: training ===\n",
      "=== fold:0 epoch: 1: training ===\n"
     ]
    },
    {
     "name": "stderr",
     "output_type": "stream",
     "text": [
      "Epoch: 01. Train. Loss: 0.650 | RMSE: 18.609: 100%|██████████| 248/248 [06:02<00:00,  1.46s/it]\n",
      "Epoch: 01. Valid. Loss: 0.644 | RMSE: 17.825: 100%|██████████| 62/62 [00:36<00:00,  1.71it/s]\n"
     ]
    },
    {
     "name": "stdout",
     "output_type": "stream",
     "text": [
      "epoch 1: rmse: 18.013\n",
      "saved model.\n",
      "=== fold:0 epoch: 2: training ===\n"
     ]
    },
    {
     "name": "stderr",
     "output_type": "stream",
     "text": [
      "Epoch: 02. Train. Loss: 0.635 | RMSE: 16.660: 100%|██████████| 248/248 [05:54<00:00,  1.43s/it]\n",
      "Epoch: 02. Valid. Loss: 0.642 | RMSE: 17.533: 100%|██████████| 62/62 [00:35<00:00,  1.76it/s]\n"
     ]
    },
    {
     "name": "stdout",
     "output_type": "stream",
     "text": [
      "epoch 2: rmse: 17.834\n",
      "saved model.\n",
      "=== fold:0 epoch: 3: training ===\n"
     ]
    },
    {
     "name": "stderr",
     "output_type": "stream",
     "text": [
      "Epoch: 03. Train. Loss: 0.623 | RMSE: 14.867: 100%|██████████| 248/248 [05:55<00:00,  1.43s/it]\n",
      "Epoch: 03. Valid. Loss: 0.645 | RMSE: 17.898: 100%|██████████| 62/62 [00:37<00:00,  1.67it/s]\n"
     ]
    },
    {
     "name": "stdout",
     "output_type": "stream",
     "text": [
      "epoch 3: rmse: 18.164\n",
      "=== fold:0 epoch: 4: training ===\n"
     ]
    },
    {
     "name": "stderr",
     "output_type": "stream",
     "text": [
      "Epoch: 04. Train. Loss: 0.610 | RMSE: 12.851: 100%|██████████| 248/248 [05:56<00:00,  1.44s/it]\n",
      "Epoch: 04. Valid. Loss: 0.649 | RMSE: 18.234: 100%|██████████| 62/62 [00:35<00:00,  1.73it/s]\n"
     ]
    },
    {
     "name": "stdout",
     "output_type": "stream",
     "text": [
      "epoch 4: rmse: 18.538\n",
      "=== fold:0 epoch: 5: training ===\n"
     ]
    },
    {
     "name": "stderr",
     "output_type": "stream",
     "text": [
      "Epoch: 05. Train. Loss: 0.598 | RMSE: 10.867: 100%|██████████| 248/248 [05:54<00:00,  1.43s/it]\n",
      "Epoch: 05. Valid. Loss: 0.652 | RMSE: 18.628: 100%|██████████| 62/62 [00:35<00:00,  1.72it/s]\n"
     ]
    },
    {
     "name": "stdout",
     "output_type": "stream",
     "text": [
      "epoch 5: rmse: 18.875\n",
      "=== fold 1: training ===\n",
      "=== fold:1 epoch: 1: training ===\n"
     ]
    },
    {
     "name": "stderr",
     "output_type": "stream",
     "text": [
      "Epoch: 01. Train. Loss: 0.651 | RMSE: 18.729: 100%|██████████| 248/248 [05:55<00:00,  1.43s/it]\n",
      "Epoch: 01. Valid. Loss: 0.644 | RMSE: 17.918: 100%|██████████| 62/62 [00:37<00:00,  1.65it/s]\n"
     ]
    },
    {
     "name": "stdout",
     "output_type": "stream",
     "text": [
      "epoch 1: rmse: 18.091\n",
      "saved model.\n",
      "=== fold:1 epoch: 2: training ===\n"
     ]
    },
    {
     "name": "stderr",
     "output_type": "stream",
     "text": [
      "Epoch: 02. Train. Loss: 0.636 | RMSE: 16.782: 100%|██████████| 248/248 [05:56<00:00,  1.44s/it]\n",
      "Epoch: 02. Valid. Loss: 0.646 | RMSE: 18.066: 100%|██████████| 62/62 [00:36<00:00,  1.69it/s]\n"
     ]
    },
    {
     "name": "stdout",
     "output_type": "stream",
     "text": [
      "epoch 2: rmse: 18.312\n",
      "=== fold:1 epoch: 3: training ===\n"
     ]
    },
    {
     "name": "stderr",
     "output_type": "stream",
     "text": [
      "Epoch: 03. Train. Loss: 0.625 | RMSE: 15.205: 100%|██████████| 248/248 [05:56<00:00,  1.44s/it]\n",
      "Epoch: 03. Valid. Loss: 0.649 | RMSE: 18.305: 100%|██████████| 62/62 [00:36<00:00,  1.68it/s]\n"
     ]
    },
    {
     "name": "stdout",
     "output_type": "stream",
     "text": [
      "epoch 3: rmse: 18.564\n",
      "=== fold:1 epoch: 4: training ===\n"
     ]
    },
    {
     "name": "stderr",
     "output_type": "stream",
     "text": [
      "Epoch: 04. Train. Loss: 0.614 | RMSE: 13.484: 100%|██████████| 248/248 [05:56<00:00,  1.44s/it]\n",
      "Epoch: 04. Valid. Loss: 0.648 | RMSE: 18.240: 100%|██████████| 62/62 [00:35<00:00,  1.73it/s]\n"
     ]
    },
    {
     "name": "stdout",
     "output_type": "stream",
     "text": [
      "epoch 4: rmse: 18.518\n",
      "=== fold:1 epoch: 5: training ===\n"
     ]
    },
    {
     "name": "stderr",
     "output_type": "stream",
     "text": [
      "Epoch: 05. Train. Loss: 0.602 | RMSE: 11.484: 100%|██████████| 248/248 [05:56<00:00,  1.44s/it]\n",
      "Epoch: 05. Valid. Loss: 0.660 | RMSE: 19.442: 100%|██████████| 62/62 [00:36<00:00,  1.72it/s]\n"
     ]
    },
    {
     "name": "stdout",
     "output_type": "stream",
     "text": [
      "epoch 5: rmse: 19.678\n",
      "=== fold 2: training ===\n",
      "=== fold:2 epoch: 1: training ===\n"
     ]
    },
    {
     "name": "stderr",
     "output_type": "stream",
     "text": [
      "Epoch: 01. Train. Loss: 0.650 | RMSE: 18.618: 100%|██████████| 248/248 [05:56<00:00,  1.44s/it]\n",
      "Epoch: 01. Valid. Loss: 0.641 | RMSE: 17.459: 100%|██████████| 62/62 [00:36<00:00,  1.68it/s]\n"
     ]
    },
    {
     "name": "stdout",
     "output_type": "stream",
     "text": [
      "epoch 1: rmse: 17.729\n",
      "saved model.\n",
      "=== fold:2 epoch: 2: training ===\n"
     ]
    },
    {
     "name": "stderr",
     "output_type": "stream",
     "text": [
      "Epoch: 02. Train. Loss: 0.636 | RMSE: 16.825: 100%|██████████| 248/248 [05:57<00:00,  1.44s/it]\n",
      "Epoch: 02. Valid. Loss: 0.642 | RMSE: 17.600: 100%|██████████| 62/62 [00:36<00:00,  1.70it/s]\n"
     ]
    },
    {
     "name": "stdout",
     "output_type": "stream",
     "text": [
      "epoch 2: rmse: 17.864\n",
      "=== fold:2 epoch: 3: training ===\n"
     ]
    },
    {
     "name": "stderr",
     "output_type": "stream",
     "text": [
      "Epoch: 03. Train. Loss: 0.624 | RMSE: 15.031: 100%|██████████| 248/248 [05:57<00:00,  1.44s/it]\n",
      "Epoch: 03. Valid. Loss: 0.643 | RMSE: 17.654: 100%|██████████| 62/62 [00:36<00:00,  1.69it/s]\n"
     ]
    },
    {
     "name": "stdout",
     "output_type": "stream",
     "text": [
      "epoch 3: rmse: 17.894\n",
      "=== fold:2 epoch: 4: training ===\n"
     ]
    },
    {
     "name": "stderr",
     "output_type": "stream",
     "text": [
      "Epoch: 04. Train. Loss: 0.610 | RMSE: 12.938: 100%|██████████| 248/248 [05:57<00:00,  1.44s/it]\n",
      "Epoch: 04. Valid. Loss: 0.645 | RMSE: 17.954: 100%|██████████| 62/62 [00:37<00:00,  1.67it/s]\n"
     ]
    },
    {
     "name": "stdout",
     "output_type": "stream",
     "text": [
      "epoch 4: rmse: 18.21\n",
      "=== fold:2 epoch: 5: training ===\n"
     ]
    },
    {
     "name": "stderr",
     "output_type": "stream",
     "text": [
      "Epoch: 05. Train. Loss: 0.598 | RMSE: 10.901: 100%|██████████| 248/248 [05:57<00:00,  1.44s/it]\n",
      "Epoch: 05. Valid. Loss: 0.649 | RMSE: 18.292: 100%|██████████| 62/62 [00:36<00:00,  1.68it/s]\n"
     ]
    },
    {
     "name": "stdout",
     "output_type": "stream",
     "text": [
      "epoch 5: rmse: 18.644\n",
      "=== fold 3: training ===\n",
      "=== fold:3 epoch: 1: training ===\n"
     ]
    },
    {
     "name": "stderr",
     "output_type": "stream",
     "text": [
      "Epoch: 01. Train. Loss: 0.651 | RMSE: 18.673: 100%|██████████| 248/248 [05:57<00:00,  1.44s/it]\n",
      "Epoch: 01. Valid. Loss: 0.644 | RMSE: 17.802: 100%|██████████| 62/62 [00:37<00:00,  1.67it/s]\n"
     ]
    },
    {
     "name": "stdout",
     "output_type": "stream",
     "text": [
      "epoch 1: rmse: 18.074\n",
      "saved model.\n",
      "=== fold:3 epoch: 2: training ===\n"
     ]
    },
    {
     "name": "stderr",
     "output_type": "stream",
     "text": [
      "Epoch: 02. Train. Loss: 0.636 | RMSE: 16.756: 100%|██████████| 248/248 [05:58<00:00,  1.44s/it]\n",
      "Epoch: 02. Valid. Loss: 0.641 | RMSE: 17.424: 100%|██████████| 62/62 [00:36<00:00,  1.68it/s]\n"
     ]
    },
    {
     "name": "stdout",
     "output_type": "stream",
     "text": [
      "epoch 2: rmse: 17.683\n",
      "saved model.\n",
      "=== fold:3 epoch: 3: training ===\n"
     ]
    },
    {
     "name": "stderr",
     "output_type": "stream",
     "text": [
      "Epoch: 03. Train. Loss: 0.624 | RMSE: 15.023: 100%|██████████| 248/248 [05:57<00:00,  1.44s/it]\n",
      "Epoch: 03. Valid. Loss: 0.643 | RMSE: 17.556: 100%|██████████| 62/62 [00:37<00:00,  1.67it/s]\n"
     ]
    },
    {
     "name": "stdout",
     "output_type": "stream",
     "text": [
      "epoch 3: rmse: 17.831\n",
      "=== fold:3 epoch: 4: training ===\n"
     ]
    },
    {
     "name": "stderr",
     "output_type": "stream",
     "text": [
      "Epoch: 04. Train. Loss: 0.610 | RMSE: 12.935: 100%|██████████| 248/248 [05:57<00:00,  1.44s/it]\n",
      "Epoch: 04. Valid. Loss: 0.647 | RMSE: 18.086: 100%|██████████| 62/62 [00:38<00:00,  1.60it/s]\n"
     ]
    },
    {
     "name": "stdout",
     "output_type": "stream",
     "text": [
      "epoch 4: rmse: 18.392\n",
      "=== fold:3 epoch: 5: training ===\n"
     ]
    },
    {
     "name": "stderr",
     "output_type": "stream",
     "text": [
      "Epoch: 05. Train. Loss: 0.598 | RMSE: 10.844: 100%|██████████| 248/248 [05:56<00:00,  1.44s/it]\n",
      "Epoch: 05. Valid. Loss: 0.648 | RMSE: 18.235: 100%|██████████| 62/62 [00:37<00:00,  1.63it/s]\n"
     ]
    },
    {
     "name": "stdout",
     "output_type": "stream",
     "text": [
      "epoch 5: rmse: 18.482\n",
      "=== fold 4: training ===\n",
      "=== fold:4 epoch: 1: training ===\n"
     ]
    },
    {
     "name": "stderr",
     "output_type": "stream",
     "text": [
      "Epoch: 01. Train. Loss: 0.653 | RMSE: 18.974: 100%|██████████| 248/248 [05:56<00:00,  1.44s/it]\n",
      "Epoch: 01. Valid. Loss: 0.645 | RMSE: 17.873: 100%|██████████| 62/62 [00:37<00:00,  1.64it/s]\n"
     ]
    },
    {
     "name": "stdout",
     "output_type": "stream",
     "text": [
      "epoch 1: rmse: 18.17\n",
      "saved model.\n",
      "=== fold:4 epoch: 2: training ===\n"
     ]
    },
    {
     "name": "stderr",
     "output_type": "stream",
     "text": [
      "Epoch: 02. Train. Loss: 0.637 | RMSE: 17.013: 100%|██████████| 248/248 [05:57<00:00,  1.44s/it]\n",
      "Epoch: 02. Valid. Loss: 0.642 | RMSE: 17.403: 100%|██████████| 62/62 [00:38<00:00,  1.61it/s]\n"
     ]
    },
    {
     "name": "stdout",
     "output_type": "stream",
     "text": [
      "epoch 2: rmse: 17.722\n",
      "saved model.\n",
      "=== fold:4 epoch: 3: training ===\n"
     ]
    },
    {
     "name": "stderr",
     "output_type": "stream",
     "text": [
      "Epoch: 03. Train. Loss: 0.625 | RMSE: 15.245: 100%|██████████| 248/248 [05:57<00:00,  1.44s/it]\n",
      "Epoch: 03. Valid. Loss: 0.642 | RMSE: 17.634: 100%|██████████| 62/62 [00:37<00:00,  1.64it/s]\n"
     ]
    },
    {
     "name": "stdout",
     "output_type": "stream",
     "text": [
      "epoch 3: rmse: 17.851\n",
      "=== fold:4 epoch: 4: training ===\n"
     ]
    },
    {
     "name": "stderr",
     "output_type": "stream",
     "text": [
      "Epoch: 04. Train. Loss: 0.613 | RMSE: 13.362: 100%|██████████| 248/248 [05:57<00:00,  1.44s/it]\n",
      "Epoch: 04. Valid. Loss: 0.644 | RMSE: 17.706: 100%|██████████| 62/62 [00:37<00:00,  1.63it/s]\n"
     ]
    },
    {
     "name": "stdout",
     "output_type": "stream",
     "text": [
      "epoch 4: rmse: 18.037\n",
      "=== fold:4 epoch: 5: training ===\n"
     ]
    },
    {
     "name": "stderr",
     "output_type": "stream",
     "text": [
      "Epoch: 05. Train. Loss: 0.601 | RMSE: 11.268: 100%|██████████| 248/248 [05:56<00:00,  1.44s/it]\n",
      "Epoch: 05. Valid. Loss: 0.647 | RMSE: 18.062: 100%|██████████| 62/62 [00:37<00:00,  1.67it/s]\n"
     ]
    },
    {
     "name": "stdout",
     "output_type": "stream",
     "text": [
      "epoch 5: rmse: 18.278\n"
     ]
    }
   ],
   "source": [
    "oof_df = pd.DataFrame()\n",
    "for fold in range(Config.n_fold):\n",
    "    print(f'=== fold {fold}: training ===')\n",
    "    train = train_df[train_df['fold'] != fold]\n",
    "    valid = train_df[train_df['fold'] == fold]\n",
    "    valid_idx = valid.index\n",
    "    \n",
    "    X_train_paths = train['file_path'].values\n",
    "    y_train = train['norm_score'].values\n",
    "    X_valid_paths = valid['file_path'].values\n",
    "    y_valid = valid['norm_score'].values\n",
    "    \n",
    "    train_dataset = PetDataset(\n",
    "      image_filepaths = X_train_paths,\n",
    "      targets = y_train,\n",
    "      transform = get_transforms()\n",
    "    )\n",
    "    \n",
    "    train_loader = DataLoader(\n",
    "      train_dataset,\n",
    "      batch_size = Config.batch_size,\n",
    "      shuffle = True,\n",
    "      num_workers = Config.num_workers,\n",
    "      pin_memory = True\n",
    "    )\n",
    "    \n",
    "    valid_dataset = PetDataset(\n",
    "      image_filepaths = X_valid_paths,\n",
    "      targets = y_valid,\n",
    "      transform = get_transforms()\n",
    "    )\n",
    "    \n",
    "    valid_loader = DataLoader(\n",
    "      valid_dataset,\n",
    "      batch_size = Config.batch_size,\n",
    "      shuffle = True,\n",
    "      num_workers = Config.num_workers,\n",
    "      pin_memory = True\n",
    "    )\n",
    "    \n",
    "    model = PetNet()\n",
    "    model = model.to(device)\n",
    "    criterion = nn.BCEWithLogitsLoss()\n",
    "    norm_bias_params, non_norm_bias_params = divice_norm_bias(model)\n",
    "    optimizer = torch.optim.AdamW(\n",
    "      [\n",
    "          {'params': norm_bias_params, 'weight_decay': Config.opt_wd_norm_bias},\n",
    "          {'params': non_norm_bias_params, 'weight_decay': Config.opt_wd_non_norm_bias},\n",
    "      ],\n",
    "      betas=(Config.opt_beta1, Config.opt_beta2),\n",
    "      eps=Config.opt_eps,\n",
    "      lr = Config.lr,\n",
    "      amsgrad = False\n",
    "    )\n",
    "    \n",
    "    best_rmse = np.inf\n",
    "    for epoch in range(1, Config.n_epoch + 1):\n",
    "        print(f'=== fold:{fold} epoch: {epoch}: training ===')\n",
    "        train_fn(train_loader, model, criterion, optimizer, epoch)\n",
    "        valid_targets, preds = valid_fn(valid_loader, model, criterion, epoch)\n",
    "        valid_rmse = round(mean_squared_error(valid_targets, preds, squared=False), 3)\n",
    "        print(f'epoch {epoch}: rmse: {valid_rmse}')\n",
    "        \n",
    "        if valid_rmse < best_rmse:\n",
    "            best_rmse = valid_rmse\n",
    "            torch.save(model.state_dict(), f'{Config.model_dir}/model_fold{fold}.pth')\n",
    "            print(\"saved model.\")\n",
    "            _oof_df = pd.DataFrame(data={'Pawpularity':valid_targets, 'pred':preds, 'fold':fold}, index=valid_idx)\n",
    "            \n",
    "    del model, train_dataset, train_loader, valid_dataset, valid_loader\n",
    "    gc.collect()\n",
    "    torch.cuda.empty_cache()\n",
    "    oof_df = pd.concat([oof_df, _oof_df])"
   ]
  },
  {
   "cell_type": "markdown",
   "id": "806a919e",
   "metadata": {
    "papermill": {
     "duration": 4.623346,
     "end_time": "2021-12-20T14:45:17.490427",
     "exception": false,
     "start_time": "2021-12-20T14:45:12.867081",
     "status": "completed"
    },
    "tags": []
   },
   "source": [
    "## cv score"
   ]
  },
  {
   "cell_type": "code",
   "execution_count": 13,
   "id": "88085574",
   "metadata": {
    "execution": {
     "iopub.execute_input": "2021-12-20T14:45:25.889641Z",
     "iopub.status.busy": "2021-12-20T14:45:25.888740Z",
     "iopub.status.idle": "2021-12-20T14:45:25.899885Z",
     "shell.execute_reply": "2021-12-20T14:45:25.900294Z",
     "shell.execute_reply.started": "2021-12-20T11:56:03.473949Z"
    },
    "papermill": {
     "duration": 4.061814,
     "end_time": "2021-12-20T14:45:25.900447",
     "exception": false,
     "start_time": "2021-12-20T14:45:21.838633",
     "status": "completed"
    },
    "tags": []
   },
   "outputs": [
    {
     "name": "stdout",
     "output_type": "stream",
     "text": [
      "fold 0: 17.834249750110402\n",
      "fold 1: 18.091371956797317\n",
      "fold 2: 17.72881102092657\n",
      "fold 3: 17.683328549228985\n",
      "fold 4: 17.722125081170105\n",
      "overall: 17.812625904243372\n"
     ]
    }
   ],
   "source": [
    "for i in range(Config.n_fold):\n",
    "    rmse_oof(oof_df, i)\n",
    "rmse_oof(oof_df)"
   ]
  },
  {
   "cell_type": "code",
   "execution_count": 14,
   "id": "1199b742",
   "metadata": {
    "execution": {
     "iopub.execute_input": "2021-12-20T14:45:34.529095Z",
     "iopub.status.busy": "2021-12-20T14:45:34.528251Z",
     "iopub.status.idle": "2021-12-20T14:45:34.573677Z",
     "shell.execute_reply": "2021-12-20T14:45:34.573074Z",
     "shell.execute_reply.started": "2021-12-20T11:58:36.172337Z"
    },
    "papermill": {
     "duration": 4.321157,
     "end_time": "2021-12-20T14:45:34.573813",
     "exception": false,
     "start_time": "2021-12-20T14:45:30.252656",
     "status": "completed"
    },
    "tags": []
   },
   "outputs": [],
   "source": [
    "oof_df.sort_index().to_csv('oof.csv', index=False)"
   ]
  },
  {
   "cell_type": "code",
   "execution_count": 15,
   "id": "c0f10717",
   "metadata": {
    "execution": {
     "iopub.execute_input": "2021-12-20T14:45:43.028938Z",
     "iopub.status.busy": "2021-12-20T14:45:43.027472Z",
     "iopub.status.idle": "2021-12-20T14:45:43.370822Z",
     "shell.execute_reply": "2021-12-20T14:45:43.371211Z",
     "shell.execute_reply.started": "2021-12-20T11:56:03.502764Z"
    },
    "papermill": {
     "duration": 4.691362,
     "end_time": "2021-12-20T14:45:43.371363",
     "exception": false,
     "start_time": "2021-12-20T14:45:38.680001",
     "status": "completed"
    },
    "tags": []
   },
   "outputs": [
    {
     "data": {
      "image/png": "[encoded data removed]",
      "text/plain": [
       "<Figure size 432x288 with 1 Axes>"
      ]
     },
     "metadata": {
      "needs_background": "light"
     },
     "output_type": "display_data"
    }
   ],
   "source": [
    "plt.hist(oof_df['Pawpularity'].values, alpha = 0.4, color = 'b', label = 'target', bins = 50)\n",
    "plt.hist(oof_df['pred'].values, alpha = 0.4, color = 'g', label = 'prediction', bins = 50)\n",
    "plt.show()"
   ]
  }
 ],
 "metadata": {
  "kernelspec": {
   "display_name": "Python 3",
   "language": "python",
   "name": "python3"
  },
  "language_info": {
   "codemirror_mode": {
    "name": "ipython",
    "version": 3
   },
   "file_extension": ".py",
   "mimetype": "text/x-python",
   "name": "python",
   "nbconvert_exporter": "python",
   "pygments_lexer": "ipython3",
   "version": "3.7.12"
  },
  "papermill": {
   "default_parameters": {},
   "duration": 9965.54364,
   "end_time": "2021-12-20T14:45:50.901689",
   "environment_variables": {},
   "exception": null,
   "input_path": "__notebook__.ipynb",
   "output_path": "__notebook__.ipynb",
   "parameters": {},
   "start_time": "2021-12-20T11:59:45.358049",
   "version": "2.3.3"
  }
 },
 "nbformat": 4,
 "nbformat_minor": 5
}
